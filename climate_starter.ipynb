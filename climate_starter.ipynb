{
 "cells": [
  {
   "cell_type": "code",
   "execution_count": 19,
   "metadata": {},
   "outputs": [],
   "source": [
    "%matplotlib inline\n",
    "from matplotlib import style\n",
    "style.use('fivethirtyeight')\n",
    "import matplotlib.pyplot as plt\n",
    "import scipy.stats as st"
   ]
  },
  {
   "cell_type": "code",
   "execution_count": 2,
   "metadata": {},
   "outputs": [],
   "source": [
    "#Imports as needed\n",
    "import numpy as np\n",
    "import pandas as pd\n",
    "import datetime as dt"
   ]
  },
  {
   "cell_type": "markdown",
   "metadata": {},
   "source": [
    "# Reflect Tables into SQLAlchemy ORM"
   ]
  },
  {
   "cell_type": "code",
   "execution_count": 3,
   "metadata": {},
   "outputs": [],
   "source": [
    "# Python SQL toolkit and Object Relational Mapper\n",
    "import sqlalchemy\n",
    "from sqlalchemy.ext.automap import automap_base\n",
    "from sqlalchemy.orm import Session\n",
    "from sqlalchemy import create_engine, func, inspect"
   ]
  },
  {
   "cell_type": "code",
   "execution_count": 4,
   "metadata": {},
   "outputs": [],
   "source": [
    "# create engine to hawaii.sqlite\n",
    "engine = create_engine(\"sqlite:///hawaii.sqlite\")"
   ]
  },
  {
   "cell_type": "code",
   "execution_count": 5,
   "metadata": {},
   "outputs": [],
   "source": [
    "# Declare Base \n",
    "Base = automap_base()"
   ]
  },
  {
   "cell_type": "code",
   "execution_count": 6,
   "metadata": {},
   "outputs": [],
   "source": [
    "# reflect an existing database into a new model\n",
    "# Use the Base class to reflect the database tables\n",
    "Base.prepare(engine, reflect=True)"
   ]
  },
  {
   "cell_type": "code",
   "execution_count": 7,
   "metadata": {},
   "outputs": [
    {
     "data": {
      "text/plain": [
       "['measurement', 'station']"
      ]
     },
     "execution_count": 7,
     "metadata": {},
     "output_type": "execute_result"
    }
   ],
   "source": [
    "# View all of the classes that automap found\n",
    "# Print all of the classes mapped to the Base\n",
    "Base.classes.keys()"
   ]
  },
  {
   "cell_type": "code",
   "execution_count": 8,
   "metadata": {},
   "outputs": [],
   "source": [
    "# Save references to each table\n",
    "Measurement = Base.classes.measurement\n",
    "Station = Base.classes.station"
   ]
  },
  {
   "cell_type": "code",
   "execution_count": 9,
   "metadata": {},
   "outputs": [],
   "source": [
    "# Create our session (link) from Python to the DB\n",
    "session = Session(engine)"
   ]
  },
  {
   "cell_type": "markdown",
   "metadata": {},
   "source": [
    "# Exploratory Precipitation Analysis"
   ]
  },
  {
   "cell_type": "code",
   "execution_count": 10,
   "metadata": {},
   "outputs": [],
   "source": [
    "# Create the inspector and connect it to the engine\n",
    "inspector = inspect(engine)"
   ]
  },
  {
   "cell_type": "code",
   "execution_count": 11,
   "metadata": {},
   "outputs": [
    {
     "name": "stdout",
     "output_type": "stream",
     "text": [
      "id INTEGER\n",
      "station TEXT\n",
      "date TEXT\n",
      "prcp FLOAT\n",
      "tobs FLOAT\n"
     ]
    }
   ],
   "source": [
    "#Find column names for Measurement Table\n",
    "columns = inspector.get_columns('Measurement')\n",
    "for column in columns:\n",
    "    print(column[\"name\"], column[\"type\"])"
   ]
  },
  {
   "cell_type": "code",
   "execution_count": 12,
   "metadata": {},
   "outputs": [
    {
     "name": "stdout",
     "output_type": "stream",
     "text": [
      "id INTEGER\n",
      "station TEXT\n",
      "name TEXT\n",
      "latitude FLOAT\n",
      "longitude FLOAT\n",
      "elevation FLOAT\n"
     ]
    }
   ],
   "source": [
    "# Find Column Names for Station Table\n",
    "columns = inspector.get_columns('Station')\n",
    "for column in columns:\n",
    "    print(column[\"name\"], column[\"type\"])"
   ]
  },
  {
   "cell_type": "code",
   "execution_count": 13,
   "metadata": {},
   "outputs": [
    {
     "data": {
      "text/plain": [
       "[('2017-08-23',)]"
      ]
     },
     "execution_count": 13,
     "metadata": {},
     "output_type": "execute_result"
    }
   ],
   "source": [
    "# Find the most recent date in the data set.\n",
    "engine.execute('SELECT Date FROM Measurement ORDER BY Date DESC LIMIT 1').fetchall()"
   ]
  },
  {
   "cell_type": "code",
   "execution_count": 14,
   "metadata": {},
   "outputs": [
    {
     "data": {
      "text/plain": [
       "[(1, 'USC00519397', '2010-01-01', 0.08, 65.0),\n",
       " (2, 'USC00519397', '2010-01-02', 0.0, 63.0),\n",
       " (3, 'USC00519397', '2010-01-03', 0.0, 74.0),\n",
       " (4, 'USC00519397', '2010-01-04', 0.0, 76.0),\n",
       " (5, 'USC00519397', '2010-01-06', None, 73.0),\n",
       " (6, 'USC00519397', '2010-01-07', 0.06, 70.0),\n",
       " (7, 'USC00519397', '2010-01-08', 0.0, 64.0),\n",
       " (8, 'USC00519397', '2010-01-09', 0.0, 68.0),\n",
       " (9, 'USC00519397', '2010-01-10', 0.0, 73.0),\n",
       " (10, 'USC00519397', '2010-01-11', 0.01, 64.0)]"
      ]
     },
     "execution_count": 14,
     "metadata": {},
     "output_type": "execute_result"
    }
   ],
   "source": [
    "#Initial Query of measurement table tabl\n",
    "engine.execute('SELECT * FROM Measurement LIMIT 10').fetchall()"
   ]
  },
  {
   "cell_type": "code",
   "execution_count": 15,
   "metadata": {},
   "outputs": [
    {
     "data": {
      "text/plain": [
       "[(1, 'USC00519397', 'WAIKIKI 717.2, HI US', 21.2716, -157.8168, 3.0),\n",
       " (2, 'USC00513117', 'KANEOHE 838.1, HI US', 21.4234, -157.8015, 14.6),\n",
       " (3, 'USC00514830', 'KUALOA RANCH HEADQUARTERS 886.9, HI US', 21.5213, -157.8374, 7.0),\n",
       " (4, 'USC00517948', 'PEARL CITY, HI US', 21.3934, -157.9751, 11.9),\n",
       " (5, 'USC00518838', 'UPPER WAHIAWA 874.3, HI US', 21.4992, -158.0111, 306.6),\n",
       " (6, 'USC00519523', 'WAIMANALO EXPERIMENTAL FARM, HI US', 21.33556, -157.71139, 19.5),\n",
       " (7, 'USC00519281', 'WAIHEE 837.5, HI US', 21.45167, -157.84888999999998, 32.9),\n",
       " (8, 'USC00511918', 'HONOLULU OBSERVATORY 702.2, HI US', 21.3152, -157.9992, 0.9),\n",
       " (9, 'USC00516128', 'MANOA LYON ARBO 785.2, HI US', 21.3331, -157.8025, 152.4)]"
      ]
     },
     "execution_count": 15,
     "metadata": {},
     "output_type": "execute_result"
    }
   ],
   "source": [
    "#Initial Query of station table\n",
    "engine.execute('SELECT * FROM station LIMIT 10').fetchall()"
   ]
  },
  {
   "cell_type": "code",
   "execution_count": 17,
   "metadata": {},
   "outputs": [
    {
     "data": {
      "image/png": "[encoded data removed]",
      "text/plain": [
       "<Figure size 432x288 with 1 Axes>"
      ]
     },
     "metadata": {},
     "output_type": "display_data"
    }
   ],
   "source": [
    "# Design a query to retrieve the last 12 months of precipitation data and plot the results. \n",
    "# Starting from the most recent data point in the database. \n",
    "\n",
    "# Find the most recent date in the data set.\n",
    "MostRecentDate = engine.execute('SELECT Date FROM Measurement ORDER BY Date DESC LIMIT 1').fetchall()\n",
    "\n",
    "#Checkscript\n",
    "#print(MostRecentDate)\n",
    "\n",
    "#Convert List containing MostRecentDate into a dataframe\n",
    "MostRecentDate_df = pd.DataFrame (MostRecentDate, columns = ['MostRecentDate'])\n",
    "\n",
    "#Review Dataframe with MostRecentDate \n",
    "#MostRecentDate_df.head()\n",
    "\n",
    "#Check Datatype of column \n",
    "#MostRecentDate_df.dtypes\n",
    "\n",
    "#Convert Column datatype from object to datetime\n",
    "MostRecentDate_df['MostRecentDate'] = pd.to_datetime(MostRecentDate_df['MostRecentDate'])\n",
    "\n",
    "#Check Datatype of column \n",
    "#MostRecentDate_df.dtypes\n",
    "\n",
    "# Calculate the date one year from the last date in data set.\n",
    "MostRecentDate_df['RecentDateOneYearPrior'] = MostRecentDate_df['MostRecentDate'] - pd.DateOffset(years=1)\n",
    "\n",
    "#Review Dataframe with MostRecentDate and oneyearprior values \n",
    "#MostRecentDate_df.head()\n",
    "\n",
    "\n",
    "# Perform a query to retrieve the data and precipitation scores\n",
    "# Find the most recent date in the data set.\n",
    "OneYearPrecipitationData = engine.execute(\"SELECT * FROM Measurement WHERE Date BETWEEN '2016-08-23' AND '2017-08-23' ORDER BY Date ASC\").fetchall()\n",
    "\n",
    "#Checkscript\n",
    "#print(OneYearPrecipitationData)\n",
    "\n",
    "\n",
    "# Save the query results as a Pandas DataFrame and set the index to the date column\n",
    "#Convert List containing MostRecentDate into a dataframe\n",
    "OneYearPrecipitationData_df = pd.DataFrame(OneYearPrecipitationData, columns = ['id','station','date','prcp','tobs'])\n",
    "\n",
    "#Review Dataframe with MostRecentDate \n",
    "#OneYearPrecipitationData_df.head()\n",
    "\n",
    "#Check Datatype of column \n",
    "OneYearPrecipitationData_df.dtypes\n",
    "\n",
    "#Convert Column datatype from object to datetime\n",
    "OneYearPrecipitationData_df['date'] = pd.to_datetime(OneYearPrecipitationData_df['date'])\n",
    "\n",
    "#Check Datatype of column \n",
    "#OneYearPrecipitationData_df.dtypes\n",
    "\n",
    "# Sort the dataframe by date\n",
    "OneYearPrecipitationData_df = OneYearPrecipitationData_df.sort_values(by='date',ascending=True)\n",
    "\n",
    "#Checkscript - 2,230 Records Returned\n",
    "#OneYearPrecipitationData_df.head(2230)\n",
    "\n",
    "\n",
    "#OneYearPrecipitationData_df['prcp']\n",
    "\n",
    "\n",
    "#Grouping Precipitation data by stations\"\n",
    "OneYearPrecipitationData_df = OneYearPrecipitationData_df.groupby(by=['station'])['prcp'].sum()\n",
    "\n",
    "#Convert List containing MostRecentDate into a dataframe\n",
    "OneYearPrecipByStation_df = pd.DataFrame(OneYearPrecipitationData_df, columns = ['id','station','date','prcp','tobs'])\n",
    "\n",
    "del OneYearPrecipByStation_df['id']\n",
    "del OneYearPrecipByStation_df['station']\n",
    "del OneYearPrecipByStation_df['date']\n",
    "del OneYearPrecipByStation_df['tobs']\n",
    "\n",
    "OneYearPrecipByStation_df.reset_index(inplace=True)\n",
    "\n",
    "OneYearPrecipByStation_df = OneYearPrecipByStation_df.rename(columns={'station': 'station'})\n",
    "\n",
    "#Final Data Pull\n",
    "#OneYearPrecipByStation_df.head(10)\n",
    "\n",
    "#print(OneYearPrecipByStation_df)\n",
    "\n",
    "#Populate the Empty Lists\n",
    "StationList = OneYearPrecipByStation_df['station']\n",
    "OneYearPrecipList = OneYearPrecipByStation_df['prcp']\n",
    "\n",
    "\n",
    "#Checkscript\n",
    "#print(OneYearPrecipList)\n",
    "#print(StationList)\n",
    "                     \n",
    "\n",
    "# Use Pandas Plotting with Matplotlib to plot the data\n",
    "plt.bar(StationList,OneYearPrecipList)\n",
    "plt.ylim(0, 170)\n",
    "plt.xticks(StationList, rotation = 70)\n",
    "plt.title(\"Yearly Precipitation By Station\")\n",
    "plt.xlabel(\"Station ID\")\n",
    "plt.ylabel(\"Yearly Precipitiation\")\n",
    "plt.tight_layout()\n",
    "plt.show();"
   ]
  },
  {
   "cell_type": "code",
   "execution_count": 50,
   "metadata": {},
   "outputs": [
    {
     "data": {
      "image/png": "[encoded data removed]",
      "text/plain": [
       "<Figure size 1080x720 with 1 Axes>"
      ]
     },
     "metadata": {},
     "output_type": "display_data"
    }
   ],
   "source": [
    "# Perform a query to retrieve the data and precipitation scores\n",
    "# Find the most recent date in the data set.\n",
    "OneYearPrecipitationDataByDay = engine.execute(\"SELECT * FROM Measurement WHERE Date BETWEEN '2016-08-23' AND '2017-08-23' ORDER BY Date ASC\").fetchall()\n",
    "\n",
    "#Checkscript\n",
    "#print(OneYearPrecipitationDataByDay)\n",
    "\n",
    "\n",
    "#Convert List containing MostRecentDate into a dataframe\n",
    "OneYearPrecipitationDataByDate_df = pd.DataFrame(OneYearPrecipitationDataByDay, columns = ['id','station','date','prcp','tobs'])\n",
    "\n",
    "#Review Dataframe with MostRecentDate \n",
    "#OneYearPrecipitationDataByDate_df.head()\n",
    "\n",
    "#Check Datatype of column \n",
    "#OneYearPrecipitationDataByDate_df.dtypes\n",
    "\n",
    "#Convert Column datatype from object to datetime\n",
    "OneYearPrecipitationDataByDate_df['date'] = pd.to_datetime(OneYearPrecipitationDataByDate_df['date'])\n",
    "\n",
    "#Check Datatype of column \n",
    "#OneYearPrecipitationDataByDate_df.dtypes\n",
    "\n",
    "#Grouping Precipitation data by date\n",
    "OneYearPrecipitationDataByDate = OneYearPrecipitationDataByDate_df.groupby(by=['date'])['prcp'].sum()\n",
    "\n",
    "#Checkscript\n",
    "#OneYearPrecipitationDataByDate.head()\n",
    "\n",
    "#Convert List containing MostRecentDate into a dataframe\n",
    "OneYearPrecipitationDataByDate_df = pd.DataFrame(OneYearPrecipitationDataByDate, columns = ['id','station','date','prcp','tobs'])\n",
    "\n",
    "#Checkscript\n",
    "#OneYearPrecipitationDataByDate_df.head()\n",
    "\n",
    "del OneYearPrecipitationDataByDate_df['id']\n",
    "del OneYearPrecipitationDataByDate_df['station']\n",
    "del OneYearPrecipitationDataByDate_df['date']\n",
    "del OneYearPrecipitationDataByDate_df['tobs']\n",
    "\n",
    "OneYearPrecipitationDataByDate_df.reset_index(inplace=True)\n",
    "\n",
    "OneYearPrecipitationDataByDate_df = OneYearPrecipitationDataByDate_df.rename(columns={'date': 'date'})\n",
    "\n",
    "#Final Data Pull\n",
    "#OneYearPrecipitationDataByDate_df.head(10)\n",
    "\n",
    "#print(OneYearPrecipByStation_df)\n",
    "\n",
    "#Populate the Empty Lists\n",
    "DateList = OneYearPrecipitationDataByDate_df['date']\n",
    "OneYearPrecipByDateList = OneYearPrecipitationDataByDate_df['prcp']\n",
    "\n",
    "\n",
    "# Use Pandas Plotting with Matplotlib to plot the data\n",
    "plt.bar(DateList,OneYearPrecipByDateList)\n",
    "plt.ylim(0, 15)\n",
    "plt.xticks(rotation = 70)\n",
    "plt.title(\"Yearly Precipitation By Date\")\n",
    "plt.xlabel(\"Date\")\n",
    "plt.ylabel(\"Precipitiation\")\n",
    "plt.tight_layout()\n",
    "plt.rcParams[\"figure.figsize\"] = (10,8)\n",
    "plt.show();"
   ]
  },
  {
   "cell_type": "code",
   "execution_count": 56,
   "metadata": {},
   "outputs": [
    {
     "name": "stdout",
     "output_type": "stream",
     "text": [
      "count      7.000000\n",
      "mean      51.182857\n",
      "std       47.604336\n",
      "min        4.590000\n",
      "25%       24.665000\n",
      "50%       38.010000\n",
      "75%       59.270000\n",
      "max      147.810000\n",
      "Name: prcp, dtype: float64\n"
     ]
    },
    {
     "data": {
      "text/html": [
       "<div>\n",
       "<style scoped>\n",
       "    .dataframe tbody tr th:only-of-type {\n",
       "        vertical-align: middle;\n",
       "    }\n",
       "\n",
       "    .dataframe tbody tr th {\n",
       "        vertical-align: top;\n",
       "    }\n",
       "\n",
       "    .dataframe thead th {\n",
       "        text-align: right;\n",
       "    }\n",
       "</style>\n",
       "<table border=\"1\" class=\"dataframe\">\n",
       "  <thead>\n",
       "    <tr style=\"text-align: right;\">\n",
       "      <th></th>\n",
       "      <th>prcp</th>\n",
       "    </tr>\n",
       "  </thead>\n",
       "  <tbody>\n",
       "    <tr>\n",
       "      <th>count</th>\n",
       "      <td>7.000000</td>\n",
       "    </tr>\n",
       "    <tr>\n",
       "      <th>mean</th>\n",
       "      <td>51.182857</td>\n",
       "    </tr>\n",
       "    <tr>\n",
       "      <th>std</th>\n",
       "      <td>47.604336</td>\n",
       "    </tr>\n",
       "    <tr>\n",
       "      <th>min</th>\n",
       "      <td>4.590000</td>\n",
       "    </tr>\n",
       "    <tr>\n",
       "      <th>25%</th>\n",
       "      <td>24.665000</td>\n",
       "    </tr>\n",
       "    <tr>\n",
       "      <th>50%</th>\n",
       "      <td>38.010000</td>\n",
       "    </tr>\n",
       "    <tr>\n",
       "      <th>75%</th>\n",
       "      <td>59.270000</td>\n",
       "    </tr>\n",
       "    <tr>\n",
       "      <th>max</th>\n",
       "      <td>147.810000</td>\n",
       "    </tr>\n",
       "  </tbody>\n",
       "</table>\n",
       "</div>"
      ],
      "text/plain": [
       "             prcp\n",
       "count    7.000000\n",
       "mean    51.182857\n",
       "std     47.604336\n",
       "min      4.590000\n",
       "25%     24.665000\n",
       "50%     38.010000\n",
       "75%     59.270000\n",
       "max    147.810000"
      ]
     },
     "execution_count": 56,
     "metadata": {},
     "output_type": "execute_result"
    }
   ],
   "source": [
    "# Use Pandas to calcualte the summary statistics for the precipitation data\n",
    "summarystats = OneYearPrecipByStation_df['prcp'].describe()\n",
    "#print (summarystats)\n",
    "\n",
    "#Convert List containing MostRecentDate into a dataframe\n",
    "summarystats_df = pd.DataFrame(summarystats)\n",
    "\n",
    "#Checkscript\n",
    "summarystats_df.head(8)"
   ]
  },
  {
   "cell_type": "markdown",
   "metadata": {},
   "source": [
    "# Exploratory Station Analysis"
   ]
  },
  {
   "cell_type": "code",
   "execution_count": 23,
   "metadata": {},
   "outputs": [
    {
     "name": "stdout",
     "output_type": "stream",
     "text": [
      "Total Count of Station IDs: 7\n"
     ]
    }
   ],
   "source": [
    "# Design a query to calculate the total number stations in the dataset\n",
    "\n",
    "# Query to pull back number of stations in the dataset\n",
    "CountStationIDs = engine.execute(\"SELECT COUNT(DISTINCT(Station)) FROM Measurement WHERE Date BETWEEN '2016-08-23' AND '2017-08-23'\").fetchall()\n",
    "\n",
    "#Checkscript\n",
    "#print(CountStationIDs)\n",
    "\n",
    "#Convert List containing StationID Count into a dataframe\n",
    "CountStationIDs_df = pd.DataFrame (CountStationIDs, columns = ['Station'])\n",
    "\n",
    "#Chceckscript\n",
    "#CountStationIDs_df.head()\n",
    "\n",
    "#Review Dataframe with Info  \n",
    "StationCount = CountStationIDs_df['Station'][0]\n",
    "\n",
    "print(F\"Total Count of Station IDs: {StationCount}\");"
   ]
  },
  {
   "cell_type": "code",
   "execution_count": 24,
   "metadata": {},
   "outputs": [
    {
     "data": {
      "text/html": [
       "<div>\n",
       "<style scoped>\n",
       "    .dataframe tbody tr th:only-of-type {\n",
       "        vertical-align: middle;\n",
       "    }\n",
       "\n",
       "    .dataframe tbody tr th {\n",
       "        vertical-align: top;\n",
       "    }\n",
       "\n",
       "    .dataframe thead th {\n",
       "        text-align: right;\n",
       "    }\n",
       "</style>\n",
       "<table border=\"1\" class=\"dataframe\">\n",
       "  <thead>\n",
       "    <tr style=\"text-align: right;\">\n",
       "      <th></th>\n",
       "      <th>Station</th>\n",
       "      <th>id</th>\n",
       "    </tr>\n",
       "  </thead>\n",
       "  <tbody>\n",
       "    <tr>\n",
       "      <th>0</th>\n",
       "      <td>USC00519397</td>\n",
       "      <td>361</td>\n",
       "    </tr>\n",
       "    <tr>\n",
       "      <th>1</th>\n",
       "      <td>USC00519281</td>\n",
       "      <td>352</td>\n",
       "    </tr>\n",
       "    <tr>\n",
       "      <th>2</th>\n",
       "      <td>USC00516128</td>\n",
       "      <td>349</td>\n",
       "    </tr>\n",
       "    <tr>\n",
       "      <th>3</th>\n",
       "      <td>USC00513117</td>\n",
       "      <td>343</td>\n",
       "    </tr>\n",
       "    <tr>\n",
       "      <th>4</th>\n",
       "      <td>USC00519523</td>\n",
       "      <td>337</td>\n",
       "    </tr>\n",
       "    <tr>\n",
       "      <th>5</th>\n",
       "      <td>USC00514830</td>\n",
       "      <td>305</td>\n",
       "    </tr>\n",
       "    <tr>\n",
       "      <th>6</th>\n",
       "      <td>USC00517948</td>\n",
       "      <td>183</td>\n",
       "    </tr>\n",
       "  </tbody>\n",
       "</table>\n",
       "</div>"
      ],
      "text/plain": [
       "       Station   id\n",
       "0  USC00519397  361\n",
       "1  USC00519281  352\n",
       "2  USC00516128  349\n",
       "3  USC00513117  343\n",
       "4  USC00519523  337\n",
       "5  USC00514830  305\n",
       "6  USC00517948  183"
      ]
     },
     "execution_count": 24,
     "metadata": {},
     "output_type": "execute_result"
    }
   ],
   "source": [
    "# Design a query to find the most active stations (i.e. what stations have the most rows?)\n",
    "# List the stations and the counts in descending order.\n",
    "\n",
    "#####################\n",
    "# In SQL\n",
    "#####################\n",
    "# Query to pull back stations grouped by measurements\n",
    "ActiveStationList = engine.execute(\"SELECT DISTINCT(Station), COUNT(id) FROM Measurement WHERE Date BETWEEN '2016-08-23' AND '2017-08-23' GROUP BY Station ORDER BY COUNT(id) DESC\").fetchall()\n",
    "\n",
    "#Checkscript\n",
    "#print(ActiveStationList)\n",
    "\n",
    "#Convert List containing Active Station Data into a dataframe\n",
    "ActiveStation_df = pd.DataFrame (ActiveStationList, columns = ['Station','id'])\n",
    "\n",
    "#Chceckscript\n",
    "ActiveStation_df.head(7)\n",
    "\n",
    "#####################\n",
    "# In Pandas/Python\n",
    "#####################\n",
    "#Grouping Precipitation data by stations\n",
    "#MostActiveStationListing_df = OneYearPrecipitationData_df.groupby(['station']).count()\n",
    "\n",
    "#Sorting the dataframe by the count of IDs\n",
    "#MostActiveStationListing_df = MostActiveStationListing_df.sort_values(['id'], ascending=False)\n",
    "\n",
    "#Final Data Pull\n",
    "#MostActiveStationListing_df.head(10)"
   ]
  },
  {
   "cell_type": "code",
   "execution_count": 25,
   "metadata": {},
   "outputs": [
    {
     "name": "stdout",
     "output_type": "stream",
     "text": [
      "Most Rain: 2.62, Least Rain: 0.0 , Average Rain: 0.044818941504178256\n"
     ]
    }
   ],
   "source": [
    "# Using the most active station id from the previous query, calculate the lowest, highest, and average temperature.\n",
    "# Query to pull back measurements from most active station\n",
    "MostActiveStationDataList = engine.execute(\"SELECT * FROM Measurement WHERE Station ='USC00519397' AND Date BETWEEN '2016-08-23' AND '2017-08-23' ORDER BY date DESC\").fetchall()\n",
    "\n",
    "#Checkscript\n",
    "#print(MostActiveStationDataList)\n",
    "\n",
    "#Convert List into a dataframe\n",
    "MostActiveStation_df = pd.DataFrame (MostActiveStationDataList, columns = ['id','station','date','prcp','tobs'])\n",
    "\n",
    "#Chceckscript\n",
    "#MostActiveStation_df.head(361)\n",
    "\n",
    "#Find Max, Min, and Average values using Pandas/Python\n",
    "MostRain = MostActiveStation_df['prcp'].max()\n",
    "LeastRain = MostActiveStation_df['prcp'].min()\n",
    "AverageRain = MostActiveStation_df['prcp'].mean()\n",
    "\n",
    "#Print Requested Data\n",
    "print(F\"Most Rain: {MostRain}, Least Rain: {LeastRain} , Average Rain: {AverageRain}\")\n"
   ]
  },
  {
   "cell_type": "code",
   "execution_count": 26,
   "metadata": {
    "scrolled": true
   },
   "outputs": [
    {
     "data": {
      "image/png": "[encoded data removed]",
      "text/plain": [
       "<Figure size 432x288 with 1 Axes>"
      ]
     },
     "metadata": {},
     "output_type": "display_data"
    }
   ],
   "source": [
    "# Using the most active station id\n",
    "# Query the last 12 months of temperature observation data for this station and plot the results as a histogram\n",
    "\n",
    "#Chceckscript\n",
    "MostActiveStation_df.head(361)\n",
    "\n",
    "#Sorting the dataframe by the date asc\n",
    "MostActiveStation_df = MostActiveStation_df.sort_values(['date'], ascending=True)\n",
    "\n",
    "#Re-index DataFrame\n",
    "#MostActiveStation_df.reset_index(inplace=True)\n",
    "#del MostActiveStation_df['index']\n",
    "MostActiveStation_df = MostActiveStation_df.rename(columns={'level_0': 'index'})\n",
    "\n",
    "#Chceckscript\n",
    "#MostActiveStation_df.head(361)\n",
    "\n",
    "#Empty List\n",
    "TemperatureList=[]\n",
    "\n",
    "#Populate list with data to be included/graphed\n",
    "TemperatureList=MostActiveStation_df['tobs']\n",
    "\n",
    "#plot histogram of Most active Station Data\n",
    "num_bins = 12\n",
    "n, bins, patches = plt.hist(TemperatureList, num_bins, facecolor='red', alpha=0.5)\n",
    "plt.xlabel(\"# Days in Year\")\n",
    "plt.ylabel(\"Temperature\")\n",
    "plt.title(\"Most Active Station - Temp Histogram\")\n",
    "plt.show();"
   ]
  },
  {
   "cell_type": "markdown",
   "metadata": {},
   "source": [
    "# Close session"
   ]
  },
  {
   "cell_type": "code",
   "execution_count": 51,
   "metadata": {},
   "outputs": [],
   "source": [
    "# Close Session\n",
    "session.close()"
   ]
  },
  {
   "cell_type": "code",
   "execution_count": null,
   "metadata": {},
   "outputs": [],
   "source": []
  }
 ],
 "metadata": {
  "anaconda-cloud": {},
  "kernel_info": {
   "name": "python3"
  },
  "kernelspec": {
   "display_name": "Python 3 (ipykernel)",
   "language": "python",
   "name": "python3"
  },
  "language_info": {
   "codemirror_mode": {
    "name": "ipython",
    "version": 3
   },
   "file_extension": ".py",
   "mimetype": "text/x-python",
   "name": "python",
   "nbconvert_exporter": "python",
   "pygments_lexer": "ipython3",
   "version": "3.9.7"
  },
  "nteract": {
   "version": "0.12.3"
  },
  "varInspector": {
   "cols": {
    "lenName": 16,
    "lenType": 16,
    "lenVar": 40
   },
   "kernels_config": {
    "python": {
     "delete_cmd_postfix": "",
     "delete_cmd_prefix": "del ",
     "library": "var_list.py",
     "varRefreshCmd": "print(var_dic_list())"
    },
    "r": {
     "delete_cmd_postfix": ") ",
     "delete_cmd_prefix": "rm(",
     "library": "var_list.r",
     "varRefreshCmd": "cat(var_dic_list()) "
    }
   },
   "types_to_exclude": [
    "module",
    "function",
    "builtin_function_or_method",
    "instance",
    "_Feature"
   ],
   "window_display": false
  }
 },
 "nbformat": 4,
 "nbformat_minor": 2
}
